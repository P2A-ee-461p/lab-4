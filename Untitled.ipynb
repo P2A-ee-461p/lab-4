{
 "cells": [
  {
   "cell_type": "code",
   "execution_count": 1,
   "metadata": {},
   "outputs": [],
   "source": [
    "#Getting the data from openml\n",
    "from sklearn.datasets import fetch_openml\n",
    "mnist = fetch_openml('mnist_784')\n",
    "cifar = fetch_openml('CIFAR_10_small')"
   ]
  },
  {
   "cell_type": "code",
   "execution_count": 11,
   "metadata": {},
   "outputs": [],
   "source": [
    "#Save dataset in pickle just in case my computer decides to pull a fast one and restart on me\n",
    "import pickle\n",
    "\n",
    "pickle.dump(mnist, open( \"mnist.p\", \"wb\" ) )\n",
    "pickle.dump(cifar, open( \"cifar.p\", \"wb\" ) )"
   ]
  },
  {
   "cell_type": "code",
   "execution_count": 1,
   "metadata": {},
   "outputs": [],
   "source": [
    "import pickle\n",
    "\n",
    "mnist = pickle.load( open(\"mnist.p\", \"rb\"))\n",
    "cifar = pickle.load( open(\"cifar.p\", \"rb\"))"
   ]
  },
  {
   "cell_type": "code",
   "execution_count": 2,
   "metadata": {},
   "outputs": [
    {
     "name": "stdout",
     "output_type": "stream",
     "text": [
      "(70000, 784)\n",
      "(70000, 1)\n"
     ]
    }
   ],
   "source": [
    "import pandas as pd\n",
    "\n",
    "X = pd.DataFrame(mnist.data)\n",
    "Y = pd.DataFrame(mnist.target)\n",
    "print(X.shape)\n",
    "print(Y.shape)"
   ]
  },
  {
   "cell_type": "code",
   "execution_count": 3,
   "metadata": {},
   "outputs": [],
   "source": [
    "from sklearn.utils import resample\n",
    "from sklearn.model_selection import train_test_split\n",
    "\n",
    "x_train, x_test, y_train, y_test = train_test_split(X,Y,test_size=0.25,random_state=42)\n",
    "x_reduced, y_reduced = resample(X,Y,replace=False,n_samples=10000,random_state=42)\n",
    "x_train_reduced, x_test_reduced, y_train_reduced, y_test_reduced = train_test_split(x_reduced,y_reduced,test_size=0.25,random_state=42)"
   ]
  },
  {
   "cell_type": "code",
   "execution_count": 4,
   "metadata": {},
   "outputs": [],
   "source": [
    "from sklearn.ensemble import RandomForestClassifier\n",
    "from xgboost import XGBClassifier\n",
    "\n",
    "forest = RandomForestClassifier()\n",
    "gradientboosting = XGBClassifier()\n",
    "\n"
   ]
  },
  {
   "cell_type": "code",
   "execution_count": 5,
   "metadata": {},
   "outputs": [],
   "source": [
    "from sklearn.model_selection import RandomizedSearchCV\n",
    "import scipy.stats as stats\n",
    "import numpy as np"
   ]
  },
  {
   "cell_type": "code",
   "execution_count": 6,
   "metadata": {},
   "outputs": [],
   "source": [
    "params1 = {'n_estimators' : np.arange(10,250),\n",
    "          'criterion' : ['gini', 'entropy'],\n",
    "          'min_samples_split' : np.arange(2,10),\n",
    "          'max_depth' : np.arange(3,15),\n",
    "          }\n",
    "\n",
    "params2 = {'n_estimators': [10],\n",
    "              'learning_rate': stats.uniform(0.01, 1),\n",
    "              'subsample': stats.uniform(0.3, 0.7),\n",
    "              'max_depth': [3, 4, 5, 6, 7, 8, 9, 10, 11, 12, 13, 14, 15, 16, 17, 18, 19, 20],\n",
    "              'colsample_bytree': stats.uniform(0.5, 0.45),\n",
    "              'min_child_weight': [1, 2, 3]\n",
    "             }"
   ]
  },
  {
   "cell_type": "code",
   "execution_count": 53,
   "metadata": {},
   "outputs": [
    {
     "name": "stdout",
     "output_type": "stream",
     "text": [
      "Fitting 5 folds for each of 100 candidates, totalling 500 fits\n"
     ]
    },
    {
     "name": "stderr",
     "output_type": "stream",
     "text": [
      "[Parallel(n_jobs=-1)]: Using backend LokyBackend with 24 concurrent workers.\n",
      "[Parallel(n_jobs=-1)]: Done   2 tasks      | elapsed:   10.8s\n",
      "[Parallel(n_jobs=-1)]: Done  13 tasks      | elapsed:   25.3s\n",
      "[Parallel(n_jobs=-1)]: Done  24 tasks      | elapsed:  1.7min\n",
      "[Parallel(n_jobs=-1)]: Done  37 tasks      | elapsed:  3.0min\n",
      "[Parallel(n_jobs=-1)]: Done  50 tasks      | elapsed:  3.2min\n",
      "[Parallel(n_jobs=-1)]: Done  65 tasks      | elapsed:  3.4min\n",
      "[Parallel(n_jobs=-1)]: Done  80 tasks      | elapsed:  4.1min\n",
      "[Parallel(n_jobs=-1)]: Done  97 tasks      | elapsed:  4.9min\n",
      "[Parallel(n_jobs=-1)]: Done 114 tasks      | elapsed:  5.4min\n",
      "[Parallel(n_jobs=-1)]: Done 133 tasks      | elapsed:  6.4min\n",
      "[Parallel(n_jobs=-1)]: Done 152 tasks      | elapsed:  7.2min\n",
      "[Parallel(n_jobs=-1)]: Done 173 tasks      | elapsed:  7.7min\n",
      "[Parallel(n_jobs=-1)]: Done 194 tasks      | elapsed:  8.3min\n",
      "[Parallel(n_jobs=-1)]: Done 217 tasks      | elapsed:  9.5min\n",
      "[Parallel(n_jobs=-1)]: Done 240 tasks      | elapsed: 10.2min\n",
      "[Parallel(n_jobs=-1)]: Done 265 tasks      | elapsed: 11.4min\n",
      "[Parallel(n_jobs=-1)]: Done 290 tasks      | elapsed: 12.1min\n",
      "[Parallel(n_jobs=-1)]: Done 317 tasks      | elapsed: 13.6min\n",
      "[Parallel(n_jobs=-1)]: Done 344 tasks      | elapsed: 14.6min\n",
      "[Parallel(n_jobs=-1)]: Done 373 tasks      | elapsed: 16.2min\n",
      "[Parallel(n_jobs=-1)]: Done 402 tasks      | elapsed: 16.7min\n",
      "[Parallel(n_jobs=-1)]: Done 433 tasks      | elapsed: 18.3min\n",
      "[Parallel(n_jobs=-1)]: Done 500 out of 500 | elapsed: 29.8min finished\n",
      "C:\\Users\\Lam\\Anaconda3\\lib\\site-packages\\sklearn\\model_selection\\_search.py:739: DataConversionWarning: A column-vector y was passed when a 1d array was expected. Please change the shape of y to (n_samples,), for example using ravel().\n",
      "  self.best_estimator_.fit(X, y, **fit_params)\n"
     ]
    }
   ],
   "source": [
    "clf1 = RandomizedSearchCV(forest,params1,n_iter=100,cv=5,verbose=10,random_state=42,n_jobs=-1)\n",
    "clf1 = clf1.fit(x_train,y_train)"
   ]
  },
  {
   "cell_type": "code",
   "execution_count": 54,
   "metadata": {},
   "outputs": [
    {
     "name": "stdout",
     "output_type": "stream",
     "text": [
      "{'random_state': 42, 'n_estimators': 102, 'min_samples_split': 4, 'max_depth': 14, 'criterion': 'entropy'}\n",
      "0.9614285714285714\n"
     ]
    }
   ],
   "source": [
    "print(clf1.best_params_)\n",
    "print(clf1.score(x_test,y_test)) #MNIST, Random Forest"
   ]
  },
  {
   "cell_type": "code",
   "execution_count": 8,
   "metadata": {},
   "outputs": [
    {
     "name": "stdout",
     "output_type": "stream",
     "text": [
      "Fitting 5 folds for each of 24 candidates, totalling 120 fits\n"
     ]
    },
    {
     "name": "stderr",
     "output_type": "stream",
     "text": [
      "[Parallel(n_jobs=-1)]: Using backend LokyBackend with 24 concurrent workers.\n",
      "[Parallel(n_jobs=-1)]: Done   2 tasks      | elapsed:  3.0min\n",
      "[Parallel(n_jobs=-1)]: Done  13 tasks      | elapsed:  6.7min\n",
      "[Parallel(n_jobs=-1)]: Done  24 tasks      | elapsed:  7.5min\n",
      "[Parallel(n_jobs=-1)]: Done  37 tasks      | elapsed:  9.8min\n",
      "[Parallel(n_jobs=-1)]: Done  50 tasks      | elapsed: 11.8min\n",
      "[Parallel(n_jobs=-1)]: Done  65 tasks      | elapsed: 17.7min\n",
      "[Parallel(n_jobs=-1)]: Done  86 out of 120 | elapsed: 21.4min remaining:  8.4min\n",
      "[Parallel(n_jobs=-1)]: Done  99 out of 120 | elapsed: 25.0min remaining:  5.3min\n",
      "[Parallel(n_jobs=-1)]: Done 112 out of 120 | elapsed: 26.2min remaining:  1.9min\n",
      "[Parallel(n_jobs=-1)]: Done 120 out of 120 | elapsed: 26.9min finished\n",
      "C:\\Users\\Lam\\Anaconda3\\lib\\site-packages\\sklearn\\preprocessing\\_label.py:235: DataConversionWarning: A column-vector y was passed when a 1d array was expected. Please change the shape of y to (n_samples, ), for example using ravel().\n",
      "  y = column_or_1d(y, warn=True)\n",
      "C:\\Users\\Lam\\Anaconda3\\lib\\site-packages\\sklearn\\preprocessing\\_label.py:268: DataConversionWarning: A column-vector y was passed when a 1d array was expected. Please change the shape of y to (n_samples, ), for example using ravel().\n",
      "  y = column_or_1d(y, warn=True)\n"
     ]
    }
   ],
   "source": [
    "clf2 = RandomizedSearchCV(gradientboosting,params2,n_iter=24,cv=5,verbose=10,random_state=42,n_jobs=-1)\n",
    "clf2 = clf2.fit(x_train,y_train)"
   ]
  },
  {
   "cell_type": "code",
   "execution_count": 9,
   "metadata": {},
   "outputs": [
    {
     "name": "stdout",
     "output_type": "stream",
     "text": [
      "{'colsample_bytree': 0.5024849527056211, 'learning_rate': 0.8254614284548342, 'max_depth': 19, 'min_child_weight': 3, 'n_estimators': 10, 'subsample': 0.8531228783718439}\n",
      "0.9568571428571429\n"
     ]
    }
   ],
   "source": [
    "print(clf2.best_params_)\n",
    "print(clf2.score(x_test,y_test)) #MNIST, Grad Boosting"
   ]
  },
  {
   "cell_type": "code",
   "execution_count": 23,
   "metadata": {},
   "outputs": [],
   "source": [
    "X = pd.DataFrame(cifar.data)\n",
    "Y = pd.DataFrame(cifar.target)\n",
    "x_train, x_test, y_train, y_test = train_test_split(X,Y,test_size=0.25,random_state=42)"
   ]
  },
  {
   "cell_type": "code",
   "execution_count": 62,
   "metadata": {},
   "outputs": [
    {
     "name": "stdout",
     "output_type": "stream",
     "text": [
      "Fitting 5 folds for each of 100 candidates, totalling 500 fits\n"
     ]
    },
    {
     "name": "stderr",
     "output_type": "stream",
     "text": [
      "[Parallel(n_jobs=-1)]: Using backend LokyBackend with 24 concurrent workers.\n",
      "[Parallel(n_jobs=-1)]: Done   2 tasks      | elapsed:   12.4s\n",
      "[Parallel(n_jobs=-1)]: Done  13 tasks      | elapsed:   28.9s\n",
      "[Parallel(n_jobs=-1)]: Done  24 tasks      | elapsed:  2.4min\n",
      "[Parallel(n_jobs=-1)]: Done  37 tasks      | elapsed:  5.0min\n",
      "[Parallel(n_jobs=-1)]: Done  50 tasks      | elapsed:  5.8min\n",
      "[Parallel(n_jobs=-1)]: Done  65 tasks      | elapsed:  7.4min\n",
      "[Parallel(n_jobs=-1)]: Done  80 tasks      | elapsed:  9.4min\n",
      "[Parallel(n_jobs=-1)]: Done  97 tasks      | elapsed: 10.9min\n",
      "[Parallel(n_jobs=-1)]: Done 114 tasks      | elapsed: 12.1min\n",
      "[Parallel(n_jobs=-1)]: Done 133 tasks      | elapsed: 13.8min\n",
      "[Parallel(n_jobs=-1)]: Done 152 tasks      | elapsed: 14.4min\n",
      "[Parallel(n_jobs=-1)]: Done 173 tasks      | elapsed: 15.3min\n",
      "[Parallel(n_jobs=-1)]: Done 194 tasks      | elapsed: 17.2min\n",
      "[Parallel(n_jobs=-1)]: Done 217 tasks      | elapsed: 18.9min\n",
      "[Parallel(n_jobs=-1)]: Done 240 tasks      | elapsed: 20.5min\n",
      "[Parallel(n_jobs=-1)]: Done 265 tasks      | elapsed: 23.1min\n",
      "[Parallel(n_jobs=-1)]: Done 290 tasks      | elapsed: 24.5min\n",
      "[Parallel(n_jobs=-1)]: Done 317 tasks      | elapsed: 27.7min\n",
      "[Parallel(n_jobs=-1)]: Done 344 tasks      | elapsed: 30.8min\n",
      "[Parallel(n_jobs=-1)]: Done 373 tasks      | elapsed: 35.1min\n",
      "[Parallel(n_jobs=-1)]: Done 402 tasks      | elapsed: 35.8min\n",
      "[Parallel(n_jobs=-1)]: Done 433 tasks      | elapsed: 38.4min\n",
      "[Parallel(n_jobs=-1)]: Done 500 out of 500 | elapsed: 46.8min finished\n",
      "C:\\Users\\Lam\\Anaconda3\\lib\\site-packages\\sklearn\\model_selection\\_search.py:739: DataConversionWarning: A column-vector y was passed when a 1d array was expected. Please change the shape of y to (n_samples,), for example using ravel().\n",
      "  self.best_estimator_.fit(X, y, **fit_params)\n"
     ]
    }
   ],
   "source": [
    "clf3 = RandomizedSearchCV(forest,params1,n_iter=100,cv=5,verbose=10,random_state=42,n_jobs=-1)\n",
    "clf3 = clf3.fit(x_train,y_train)"
   ]
  },
  {
   "cell_type": "code",
   "execution_count": 63,
   "metadata": {},
   "outputs": [
    {
     "name": "stdout",
     "output_type": "stream",
     "text": [
      "{'random_state': 42, 'n_estimators': 187, 'min_samples_split': 4, 'max_depth': 14, 'criterion': 'gini'}\n",
      "0.4384\n"
     ]
    }
   ],
   "source": [
    "print(clf3.best_params_)\n",
    "print(clf3.score(x_test,y_test)) #CIFAR, Random Forest"
   ]
  },
  {
   "cell_type": "code",
   "execution_count": 31,
   "metadata": {},
   "outputs": [
    {
     "name": "stdout",
     "output_type": "stream",
     "text": [
      "Fitting 5 folds for each of 1 candidates, totalling 5 fits\n"
     ]
    },
    {
     "name": "stderr",
     "output_type": "stream",
     "text": [
      "[Parallel(n_jobs=-1)]: Using backend LokyBackend with 24 concurrent workers.\n",
      "[Parallel(n_jobs=-1)]: Done   2 out of   5 | elapsed:  6.6min remaining: 10.0min\n",
      "[Parallel(n_jobs=-1)]: Done   3 out of   5 | elapsed:  6.6min remaining:  4.4min\n",
      "[Parallel(n_jobs=-1)]: Done   5 out of   5 | elapsed:  6.7min remaining:    0.0s\n",
      "[Parallel(n_jobs=-1)]: Done   5 out of   5 | elapsed:  6.7min finished\n",
      "C:\\Users\\Lam\\Anaconda3\\lib\\site-packages\\sklearn\\preprocessing\\_label.py:235: DataConversionWarning: A column-vector y was passed when a 1d array was expected. Please change the shape of y to (n_samples, ), for example using ravel().\n",
      "  y = column_or_1d(y, warn=True)\n",
      "C:\\Users\\Lam\\Anaconda3\\lib\\site-packages\\sklearn\\preprocessing\\_label.py:268: DataConversionWarning: A column-vector y was passed when a 1d array was expected. Please change the shape of y to (n_samples, ), for example using ravel().\n",
      "  y = column_or_1d(y, warn=True)\n"
     ]
    }
   ],
   "source": [
    "clf4 = RandomizedSearchCV(gradientboosting,params2,n_iter=1,cv=5,verbose=10,random_state=42,n_jobs=-1)\n",
    "clf4 = clf4.fit(x_train,y_train)"
   ]
  },
  {
   "cell_type": "code",
   "execution_count": 26,
   "metadata": {},
   "outputs": [
    {
     "name": "stdout",
     "output_type": "stream",
     "text": [
      "{'colsample_bytree': 0.6236248068455289, 'learning_rate': 0.5712434258477012, 'max_depth': 5, 'min_child_weight': 1, 'n_estimators': 10, 'subsample': 0.9801984667723727}\n",
      "0.4066\n"
     ]
    }
   ],
   "source": [
    "print(clf4.best_params_)\n",
    "print(clf4.score(x_test,y_test)) #CIFAR, Grad boosting"
   ]
  },
  {
   "cell_type": "code",
   "execution_count": null,
   "metadata": {},
   "outputs": [],
   "source": []
  }
 ],
 "metadata": {
  "kernelspec": {
   "display_name": "Python 3",
   "language": "python",
   "name": "python3"
  },
  "language_info": {
   "codemirror_mode": {
    "name": "ipython",
    "version": 3
   },
   "file_extension": ".py",
   "mimetype": "text/x-python",
   "name": "python",
   "nbconvert_exporter": "python",
   "pygments_lexer": "ipython3",
   "version": "3.7.7"
  }
 },
 "nbformat": 4,
 "nbformat_minor": 4
}
